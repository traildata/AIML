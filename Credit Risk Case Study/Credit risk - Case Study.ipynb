{
 "cells": [
  {
   "cell_type": "markdown",
   "id": "7dfb10e9",
   "metadata": {},
   "source": [
    " Problem Statement: Credit risk Analysis for consumer finance company to decide the best possible way of reducing the loan  defaults and improve credit standing based on the existing loan data .\n",
    " The attributes in loan data needs to be identified that play key role in arriving at the conclusion whether to give loan or not.\n",
    " \n",
    " "
   ]
  },
  {
   "cell_type": "markdown",
   "id": "9edcc588",
   "metadata": {},
   "source": [
    "As mentioned in the case study statement we have two analyse below risks.\n",
    "If the applicant is likely to repay the loan, then not approving the loan results in a loss of business to the company\n",
    "\n",
    "If the applicant is not likely to repay the loan, i.e. he/she is likely to default, then approving the loan may lead to a financial loss for the company"
   ]
  },
  {
   "cell_type": "markdown",
   "id": "03ce5a0e",
   "metadata": {},
   "source": [
    "DATA CLEANING"
   ]
  },
  {
   "cell_type": "code",
   "execution_count": 15,
   "id": "c878fa40",
   "metadata": {},
   "outputs": [
    {
     "name": "stdout",
     "output_type": "stream",
     "text": [
      "Unique Loan Applications in loan csv file are ----------- 39717\n"
     ]
    }
   ],
   "source": [
    "import pandas as pd \n",
    "import numpy as np\n",
    "\n",
    "# This will read the loans file into a dataframe , i have kept the file local on my machine and it is being read \n",
    "\n",
    "def read_loan(path):\n",
    "    df_loan = pd.read_csv(path) \n",
    "    print('Unique Loan Applications in loan csv file are ----------- '+ str(df_loan.id.nunique(dropna = True)))\n",
    "    return df_loan\n",
    "\n",
    "path_loan_csv = \"C:\\Lending Club\\loan.csv\"\n",
    "df_loan = read_loan(path_loan_csv)"
   ]
  },
  {
   "cell_type": "code",
   "execution_count": 22,
   "id": "ec55faa8",
   "metadata": {},
   "outputs": [
    {
     "name": "stderr",
     "output_type": "stream",
     "text": [
      "C:\\Users\\Jaspreet.singh.MW-LT-087\\AppData\\Roaming\\Python\\Python38\\site-packages\\IPython\\core\\interactiveshell.py:3337: DtypeWarning: Columns (50,79,106,107) have mixed types.Specify dtype option on import or set low_memory=False.\n",
      "  if (await self.run_code(code, result,  async_=asy)):\n"
     ]
    }
   ],
   "source": [
    "#lets perform the missing value standardization process on loan dataframe for columns 'emp_title' and ''\n",
    "\n",
    "def standaridize_missing_data(path):\n",
    "    df_loan = pd.read_csv(path)\n",
    "    df_loan.to_csv('C:\\Lending Club\\loan.csv',na_rep='Unknown')\n",
    "    return df_loan\n",
    "    \n",
    "\n",
    "df_loan_std0 = standaridize_missing_data(path_loan_csv)\n",
    "\n"
   ]
  },
  {
   "cell_type": "code",
   "execution_count": 25,
   "id": "a29e853a",
   "metadata": {},
   "outputs": [],
   "source": [
    "#lets perform the %removal from interest column\n",
    "\n",
    "def remove_percentage(path):\n",
    "    df_loan = pd.read_csv(path)\n",
    "    df_loan['int_rate'] = df_loan['int_rate'] .replace(to_replace='%', value='', regex=True)\n",
    "    df_loan.to_csv('C:\\Lending Club\\loan.csv')\n",
    "    return df_loan\n",
    "\n",
    "df_loan_std1 = remove_percentage(path_loan_csv)\n"
   ]
  },
  {
   "cell_type": "code",
   "execution_count": 28,
   "id": "ca503234",
   "metadata": {
    "scrolled": true
   },
   "outputs": [],
   "source": [
    "# removing the months and producing a number and renaming the column to terms_in_months\n",
    "\n",
    "def standardize_term(path):\n",
    "    df_loan = pd.read_csv(path)\n",
    "    df_loan['term'] = df_loan['term'] .replace(to_replace='months', value='', regex=True)\n",
    "    df_loan.rename(columns = {'term':'term_in_months'}, inplace = True)   \n",
    "    df_loan.to_csv('C:\\Lending Club\\loan.csv')\n",
    "    return df_loan\n",
    "\n",
    "df_loan_std2 = standardize_term(path_loan_csv)"
   ]
  },
  {
   "cell_type": "code",
   "execution_count": 31,
   "id": "864b3347",
   "metadata": {},
   "outputs": [
    {
     "name": "stderr",
     "output_type": "stream",
     "text": [
      "C:\\Users\\Jaspreet.singh.MW-LT-087\\AppData\\Roaming\\Python\\Python38\\site-packages\\IPython\\core\\interactiveshell.py:3337: DtypeWarning: Columns (56,85,112,113) have mixed types.Specify dtype option on import or set low_memory=False.\n",
      "  if (await self.run_code(code, result,  async_=asy)):\n",
      "C:\\Users\\Jaspreet.singh.MW-LT-087\\AppData\\Roaming\\Python\\Python38\\site-packages\\IPython\\core\\interactiveshell.py:3337: DtypeWarning: Columns (57,86,113,114) have mixed types.Specify dtype option on import or set low_memory=False.\n",
      "  if (await self.run_code(code, result,  async_=asy)):\n",
      "C:\\Users\\Jaspreet.singh.MW-LT-087\\AppData\\Roaming\\Python\\Python38\\site-packages\\IPython\\core\\interactiveshell.py:3337: DtypeWarning: Columns (58,87,114,115) have mixed types.Specify dtype option on import or set low_memory=False.\n",
      "  if (await self.run_code(code, result,  async_=asy)):\n",
      "C:\\Users\\Jaspreet.singh.MW-LT-087\\AppData\\Roaming\\Python\\Python38\\site-packages\\IPython\\core\\interactiveshell.py:3337: DtypeWarning: Columns (59,88,115,116) have mixed types.Specify dtype option on import or set low_memory=False.\n",
      "  if (await self.run_code(code, result,  async_=asy)):\n",
      "C:\\Users\\Jaspreet.singh.MW-LT-087\\AppData\\Roaming\\Python\\Python38\\site-packages\\IPython\\core\\interactiveshell.py:3337: DtypeWarning: Columns (60,89,116,117) have mixed types.Specify dtype option on import or set low_memory=False.\n",
      "  if (await self.run_code(code, result,  async_=asy)):\n",
      "C:\\Users\\Jaspreet.singh.MW-LT-087\\AppData\\Roaming\\Python\\Python38\\site-packages\\IPython\\core\\interactiveshell.py:3337: DtypeWarning: Columns (61,90,117,118) have mixed types.Specify dtype option on import or set low_memory=False.\n",
      "  if (await self.run_code(code, result,  async_=asy)):\n",
      "C:\\Users\\Jaspreet.singh.MW-LT-087\\AppData\\Roaming\\Python\\Python38\\site-packages\\IPython\\core\\interactiveshell.py:3337: DtypeWarning: Columns (62,91,118,119) have mixed types.Specify dtype option on import or set low_memory=False.\n",
      "  if (await self.run_code(code, result,  async_=asy)):\n"
     ]
    }
   ],
   "source": [
    "# changing the values to lowercase for better and consistent filtering and analysis\n",
    "\n",
    "def standardize_case(path,column):\n",
    "    df_loan = pd.read_csv(path)\n",
    "    df_loan[column] = df_loan[column] .str.lower()\n",
    "    df_loan.to_csv('C:\\Lending Club\\loan.csv')\n",
    "    return df_loan\n",
    "\n",
    "df_loan_std3 = standardize_case(path_loan_csv,'emp_title')\n",
    "df_loan_std4 = standardize_case(path_loan_csv,'home_ownership')\n",
    "df_loan_std5 = standardize_case(path_loan_csv,'verification_status')\n",
    "df_loan_std6 = standardize_case(path_loan_csv,'loan_status')\n",
    "df_loan_std7 = standardize_case(path_loan_csv,'purpose')\n",
    "df_loan_std8 = standardize_case(path_loan_csv,'title')\n",
    "df_loan_std9 = standardize_case(path_loan_csv,'loan_status')"
   ]
  },
  {
   "cell_type": "markdown",
   "id": "3e7199f1",
   "metadata": {},
   "source": [
    "DATA ANALYSIS"
   ]
  },
  {
   "cell_type": "markdown",
   "id": "92d4ba91",
   "metadata": {},
   "source": [
    "The first variable we are looking for is Owernship Type and finding the defaulters count / trend"
   ]
  },
  {
   "cell_type": "code",
   "execution_count": 43,
   "id": "e49f48cd",
   "metadata": {},
   "outputs": [
    {
     "name": "stdout",
     "output_type": "stream",
     "text": [
      "                  id\n",
      "home_ownership      \n",
      "rent            2839\n",
      "mortgage        2327\n",
      "own              443\n",
      "other             18\n"
     ]
    }
   ],
   "source": [
    "\n",
    "\n",
    "def get_charged_off_loan_cases(df_loan_std9,default_type):\n",
    "    filtered_df_loan_status = df_loan_std9.loc[df_loan_std9['loan_status'].isin(default_type)] \n",
    "    df_grp =  filtered_df_loan_status.groupby([\"home_ownership\"])[\"id\"].count()\n",
    "    df_srted = (df_grp.sort_values(ascending=False))\n",
    "    top_defauters_by_ownership_type = df_srted.head(n=9).to_frame()\n",
    "    return top_defauters_by_ownership_type\n",
    "    \n",
    "\n",
    "default_type=['charged off']\n",
    "top_Defaulters_by_home_own = get_charged_off_loan_cases(df_loan_std9,default_type)\n",
    "print(top_Defaulters_by_home_own)\n"
   ]
  },
  {
   "cell_type": "markdown",
   "id": "c14aebd8",
   "metadata": {},
   "source": [
    "Plot for defaulters by ownership type -- 'rented' ones have highest default rates"
   ]
  },
  {
   "cell_type": "code",
   "execution_count": 62,
   "id": "bb514ae8",
   "metadata": {},
   "outputs": [
    {
     "data": {
      "image/png": "[encoded data removed]",
      "text/plain": [
       "<Figure size 432x288 with 1 Axes>"
      ]
     },
     "metadata": {
      "needs_background": "light"
     },
     "output_type": "display_data"
    }
   ],
   "source": [
    "import numpy as np \n",
    "import matplotlib.pyplot as plt \n",
    "\n",
    "\n",
    "X = top_Defaulters_by_home_own['home_ownership']\n",
    "Y = top_Defaulters_by_home_own['id']\n",
    "X_axis = np.arange(len(X))\n",
    "\n",
    "\n",
    "plt.bar(X_axis - 0.2, Y, 0.4, label = 'Number oF defaulters by ownership type')\n",
    "\n",
    "plt.xticks(X_axis, X)\n",
    "plt.xlabel(\"Owenership Type\")\n",
    "plt.ylabel(\"Number of Defaulters\")\n",
    "plt.title(\"Number of Defaulters in each Ownership type \")\n",
    "plt.legend()\n",
    "plt.show()"
   ]
  },
  {
   "cell_type": "markdown",
   "id": "f7cff6eb",
   "metadata": {},
   "source": [
    "Finding the defaulters by verfication status of income -- The ones that are not verified are high"
   ]
  },
  {
   "cell_type": "code",
   "execution_count": 54,
   "id": "452c91a5",
   "metadata": {},
   "outputs": [
    {
     "name": "stdout",
     "output_type": "stream",
     "text": [
      "                       id\n",
      "verification_status      \n",
      "not verified         2142\n",
      "verified             2051\n",
      "source verified      1434\n"
     ]
    }
   ],
   "source": [
    "\n",
    "def get_charged_off_loan_cases_by_verification_status(df_loan_std9,default_type):\n",
    "    filtered_df_loan_status = df_loan_std9.loc[df_loan_std9['loan_status'].isin(default_type)] \n",
    "    df_grp =  filtered_df_loan_status.groupby([\"verification_status\"])[\"id\"].count()\n",
    "    df_srted = (df_grp.sort_values(ascending=False))\n",
    "    top_defauters_by_verification_status = df_srted.head(n=9).to_frame()\n",
    "    return top_defauters_by_verification_status\n",
    "    \n",
    "\n",
    "default_type=['charged off']\n",
    "top_defauters_by_verification_status = get_charged_off_loan_cases_by_verification_status(df_loan_std9,default_type)\n",
    "print(top_defauters_by_verification_status)\n",
    "\n"
   ]
  },
  {
   "cell_type": "markdown",
   "id": "8a146d44",
   "metadata": {},
   "source": [
    "Finding the defaulters by purpose -- the ones that are borrowing for debt consolidation are high"
   ]
  },
  {
   "cell_type": "code",
   "execution_count": 60,
   "id": "c2480eff",
   "metadata": {},
   "outputs": [
    {
     "name": "stdout",
     "output_type": "stream",
     "text": [
      "                      id\n",
      "purpose                 \n",
      "debt_consolidation  2767\n",
      "other                633\n",
      "credit_card          542\n",
      "small_business       475\n",
      "home_improvement     347\n",
      "major_purchase       222\n",
      "car                  160\n",
      "medical              106\n",
      "wedding               96\n"
     ]
    }
   ],
   "source": [
    "def get_charged_off_loan_cases_by_purpose(df_loan_std9,default_type):\n",
    "    filtered_df_loan_status = df_loan_std9.loc[df_loan_std9['loan_status'].isin(default_type)] \n",
    "    df_grp =  filtered_df_loan_status.groupby([\"purpose\"])[\"id\"].count()\n",
    "    df_srted = (df_grp.sort_values(ascending=False))\n",
    "    top_defauters_by_purpose = df_srted.head(n=9).to_frame()\n",
    "    return top_defauters_by_purpose\n",
    "    \n",
    "\n",
    "default_type=['charged off']\n",
    "top_defauters_by_purpose =  get_charged_off_loan_cases_by_purpose(df_loan_std9,default_type)\n",
    "print(top_defauters_by_purpose)"
   ]
  },
  {
   "cell_type": "code",
   "execution_count": 63,
   "id": "a2001e58",
   "metadata": {},
   "outputs": [
    {
     "name": "stdout",
     "output_type": "stream",
     "text": [
      "                          id\n",
      "title                       \n",
      "debt consolidation       475\n",
      "debt consolidation loan  300\n",
      "personal loan            145\n",
      "personal                 104\n",
      "small business loan      102\n",
      "consolidation            100\n",
      "home improvement          80\n",
      "consolidation loan        55\n",
      "loan                      45\n"
     ]
    }
   ],
   "source": [
    "def get_charged_off_loan_cases_by_title(df_loan_std9,default_type):\n",
    "    filtered_df_loan_status = df_loan_std9.loc[df_loan_std9['loan_status'].isin(default_type)] \n",
    "    df_grp =  filtered_df_loan_status.groupby([\"title\"])[\"id\"].count()\n",
    "    df_srted = (df_grp.sort_values(ascending=False))\n",
    "    top_defauters_by_title = df_srted.head(n=9).to_frame()\n",
    "    return top_defauters_by_title\n",
    "    \n",
    "\n",
    "default_type=['charged off']\n",
    "top_defauters_by_title =  get_charged_off_loan_cases_by_title(df_loan_std9,default_type)\n",
    "print(top_defauters_by_title)"
   ]
  },
  {
   "cell_type": "markdown",
   "id": "426ab1a3",
   "metadata": {},
   "source": [
    "By employment length the defaulters are high who have crossed 10 uyears"
   ]
  },
  {
   "cell_type": "code",
   "execution_count": 64,
   "id": "7d3d70c9",
   "metadata": {},
   "outputs": [
    {
     "name": "stdout",
     "output_type": "stream",
     "text": [
      "              id\n",
      "emp_length      \n",
      "10+ years   1331\n",
      "< 1 year     639\n",
      "2 years      567\n",
      "3 years      555\n",
      "4 years      462\n",
      "5 years      458\n",
      "1 year       456\n",
      "6 years      307\n",
      "7 years      263\n"
     ]
    }
   ],
   "source": [
    "def get_charged_off_loan_cases_by_employment_length(df_loan_std9,default_type):\n",
    "    filtered_df_loan_status = df_loan_std9.loc[df_loan_std9['loan_status'].isin(default_type)] \n",
    "    df_grp =  filtered_df_loan_status.groupby([\"emp_length\"])[\"id\"].count()\n",
    "    df_srted = (df_grp.sort_values(ascending=False))\n",
    "    top_defauters_by_employment_length = df_srted.head(n=9).to_frame()\n",
    "    return top_defauters_by_employment_length\n",
    "    \n",
    "\n",
    "default_type=['charged off']\n",
    "top_defauters_by_employment_length =  get_charged_off_loan_cases_by_employment_length(df_loan_std9,default_type)\n",
    "print(top_defauters_by_employment_length)"
   ]
  }
 ],
 "metadata": {
  "kernelspec": {
   "display_name": "Python 3",
   "language": "python",
   "name": "python3"
  },
  "language_info": {
   "codemirror_mode": {
    "name": "ipython",
    "version": 3
   },
   "file_extension": ".py",
   "mimetype": "text/x-python",
   "name": "python",
   "nbconvert_exporter": "python",
   "pygments_lexer": "ipython3",
   "version": "3.8.8"
  }
 },
 "nbformat": 4,
 "nbformat_minor": 5
}
